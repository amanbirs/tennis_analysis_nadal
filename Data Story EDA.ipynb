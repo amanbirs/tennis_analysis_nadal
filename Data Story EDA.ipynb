{
 "cells": [
  {
   "cell_type": "markdown",
   "metadata": {},
   "source": [
    "# Data Story EDA - Rise and Fall of Rafael Nadal"
   ]
  },
  {
   "cell_type": "markdown",
   "metadata": {},
   "source": [
    "<h1 id=\"tocheading\">Table of Contents</h1>\n",
    "<div id=\"toc\"></div>\n"
   ]
  },
  {
   "cell_type": "code",
   "execution_count": 3,
   "metadata": {
    "collapsed": false
   },
   "outputs": [
    {
     "data": {
      "application/javascript": [
       "$.getScript('https://kmahelona.github.io/ipython_notebook_goodies/ipython_notebook_toc.js')"
      ],
      "text/plain": [
       "<IPython.core.display.Javascript object>"
      ]
     },
     "metadata": {},
     "output_type": "display_data"
    }
   ],
   "source": [
    "%%javascript\n",
    "$.getScript('https://kmahelona.github.io/ipython_notebook_goodies/ipython_notebook_toc.js')"
   ]
  },
  {
   "cell_type": "code",
   "execution_count": 2,
   "metadata": {
    "collapsed": false
   },
   "outputs": [
    {
     "name": "stdout",
     "output_type": "stream",
     "text": [
      "Using matplotlib backend: MacOSX\n",
      "Populating the interactive namespace from numpy and matplotlib\n"
     ]
    }
   ],
   "source": [
    "%pylab \n",
    "%matplotlib inline\n",
    "\n",
    "import pandas as pd\n",
    "import matplotlib.pyplot as pyplot\n",
    "from scipy import stats"
   ]
  },
  {
   "cell_type": "markdown",
   "metadata": {},
   "source": [
    "## Intro"
   ]
  },
  {
   "cell_type": "markdown",
   "metadata": {},
   "source": [
    "Since Nadal burst on the scene with a French Open victory in 2005, he has been part of an elite group of tennis players, consistently challenging for grand slam titles and winning a remarkable number of them.\n",
    "\n",
    "He quickly established himself as Roger Federer's main competitor and had a firm hold on the #2 ranking. The rivalry between the two players has been seen as one of the greatest in tennis ***(add citation)*** \n",
    "\n"
   ]
  },
  {
   "cell_type": "markdown",
   "metadata": {},
   "source": [
    "## Research Questions"
   ]
  },
  {
   "cell_type": "markdown",
   "metadata": {},
   "source": [
    "1. Changes in First Serve, second serve forehand, backhand %\n",
    " \n",
    "2. Changes in unforced errors and winners\n",
    "\n",
    "3. Changes in results to top players, other players\n",
    "\n",
    "4. In cases where nadal has the ball in his comfort zone (forhand middle of the court, short ball), how does he react?"
   ]
  },
  {
   "cell_type": "markdown",
   "metadata": {},
   "source": [
    "## Methodology & Data"
   ]
  },
  {
   "cell_type": "markdown",
   "metadata": {},
   "source": []
  },
  {
   "cell_type": "markdown",
   "metadata": {},
   "source": [
    "## Key Findings"
   ]
  },
  {
   "cell_type": "markdown",
   "metadata": {},
   "source": [
    "1. Rafael Nadal has seen a significant decline in results \n",
    "\n",
    "2. The second serve is down."
   ]
  },
  {
   "cell_type": "markdown",
   "metadata": {},
   "source": [
    "## Reading in the Data "
   ]
  },
  {
   "cell_type": "code",
   "execution_count": 32,
   "metadata": {
    "collapsed": false
   },
   "outputs": [
    {
     "name": "stderr",
     "output_type": "stream",
     "text": [
      "//anaconda/lib/python3.5/site-packages/IPython/core/interactiveshell.py:2723: DtypeWarning: Columns (12,24,25,26,31,32,33,34,35,45,51) have mixed types. Specify dtype option on import or set low_memory=False.\n",
      "  interactivity=interactivity, compiler=compiler, result=result)\n"
     ]
    }
   ],
   "source": [
    "#Need to add latin-1 encoding to import the match and points data, not sure why that is the case.\n",
    "\n",
    "nadal_rankings = pd.read_csv('/Users/amanbirs/Dropbox/Datasets/Nadal_atp_rankings_160425.csv')\n",
    "match_data = pd.read_csv('/Users/amanbirs/Dropbox/Datasets/tennis_MatchChartingProject-master/charting-m-matches.csv', header = 0, encoding='latin-1')\n",
    "point_data = pd.read_csv('/Users/amanbirs/Dropbox/Datasets/tennis_MatchChartingProject-master/charting-m-points.csv', header = 0, encoding='latin-1')\n",
    "match_overview_data = pd.read_csv('/Users/amanbirs/Dropbox/Datasets/tennis_MatchChartingProject-master/charting-m-stats-Overview.csv', header = 0, encoding='latin-1')\n",
    "\n"
   ]
  },
  {
   "cell_type": "code",
   "execution_count": 61,
   "metadata": {
    "collapsed": true
   },
   "outputs": [],
   "source": [
    "atp_results =  pd.read_csv('/Users/amanbirs/Dropbox/Datasets/tennis_atp-master/atp_matches_2006.csv')\n",
    "# importing results data\n",
    "for year in range(2007, 2016):\n",
    "    atp_results_yr = pd.read_csv('/Users/amanbirs/Dropbox/Datasets/tennis_atp-master/atp_matches_' + str(year) + '.csv')\n",
    "    atp_results = atp_results.append(atp_results_yr)"
   ]
  },
  {
   "cell_type": "markdown",
   "metadata": {},
   "source": [
    "## EDA"
   ]
  },
  {
   "cell_type": "markdown",
   "metadata": {},
   "source": [
    "### Graphing the Changes in Ranking"
   ]
  },
  {
   "cell_type": "code",
   "execution_count": 67,
   "metadata": {
    "collapsed": false
   },
   "outputs": [],
   "source": [
    "# converting date column to the correct format\n",
    "nadal_rankings['DATE'] = pd.to_datetime(nadal_rankings['DATE'])\n",
    "\n",
    "# making ranking column numeric\n",
    "nadal_rankings['SINGLES'] = nadal_rankings['SINGLES'].str.replace('T', '')\n",
    "nadal_rankings['SINGLES'] = pd.to_numeric(nadal_rankings['SINGLES'])"
   ]
  },
  {
   "cell_type": "markdown",
   "metadata": {},
   "source": [
    "#### Nadal's Ranking's have fluctuated a lot over the past 10 years\n",
    "\n",
    "Till late 2014 Nadal was a dominant player and even spent 84 weeks at #1. Although he had a brief dip in the middle of 2013, this was largely due to injuries ***add citation***. Once he recovered he reclaimed the top spot. \n",
    "\n",
    "Since then though he has struggled with injuries and form. He has fallen out of the top two and has seen his ranking bounce around the top 10. \n",
    "\n",
    "We can split his career into three phases:\n",
    "\n",
    "1. **From 2006 till 2010:**  Nadal and Federer are the domninant tennis players on the circuit and share the top two spots. No one really looks like coming close to the two of them.\n",
    "    \n",
    "    Nadal arguably has his most succesful year in 2010, winning the French Open, Wimbledon and US Open. He regained the #1 ranking this year after coming back from injury and completed his career grand slam by winning the US Open. He was even awared the Laureus World Sportsman of the Year award for his achievements in 2010.\n",
    "\n",
    "    \n",
    "2. **2011 till 2015:**  While Nadal and Federer are still top players, a new generation of stars has emerged and begun to effectively compete with them. In 2011, Djokovic is the #1 player in the world and he wins three masters in the year as well - the Australian Open, Wimbledon and the US Open. The \"Big Four\" - Roger Federer, Rafael Nadal, Novak Djokovic and Andy Murray are the dominant players. \n",
    "\n",
    "    Nadal continues to compete at the highest level during this period, winning the US Open in 2013 and French Open titles in 2011, 2012, 2013 and 2014. He returns to #1 in 2013. \n",
    "\n",
    "\n",
    "3. **2015 till now:**: Nadal's 2014 win at Roland Garros remains his most recent masters victory. Though he is still relatively young his body starts to show the wear of gruelling years on the tour. Repeated injuries have taken him off the tour and have reduced the effectiveness of his physical style of play. \n",
    "\n",
    "    His ranking falls outside the top 4 and goes as low as #10. He is currently at #5 in the world."
   ]
  },
  {
   "cell_type": "markdown",
   "metadata": {},
   "source": [
    "#### Graph 1: Nadal's Rankings from 2006 to Present"
   ]
  },
  {
   "cell_type": "code",
   "execution_count": 68,
   "metadata": {
    "collapsed": false
   },
   "outputs": [
    {
     "data": {
      "image/png": "[encoded data removed]",
      "text/plain": [
       "<matplotlib.figure.Figure at 0x115505ef0>"
      ]
     },
     "metadata": {},
     "output_type": "display_data"
    }
   ],
   "source": [
    "# plotting changes in Nadal's Rankings over the past 10 years\n",
    "pyplot.gca().invert_yaxis()\n",
    "\n",
    "ranking_plt = pyplot.plot(nadal_rankings['DATE'][nadal_rankings['DATE'] > '2006.01.01']\n",
    "    , nadal_rankings['SINGLES'][nadal_rankings['DATE'] > '2006.01.01'])"
   ]
  },
  {
   "cell_type": "markdown",
   "metadata": {},
   "source": [
    "#### Table of Nadal's Rankings from 2006 to now"
   ]
  },
  {
   "cell_type": "code",
   "execution_count": 69,
   "metadata": {
    "collapsed": false
   },
   "outputs": [
    {
     "data": {
      "text/plain": [
       "0       1\n",
       "1     124\n",
       "2     211\n",
       "3      44\n",
       "4      34\n",
       "5      40\n",
       "6       1\n",
       "7       9\n",
       "8       4\n",
       "9       2\n",
       "10      7\n",
       "Name: SINGLES, dtype: int64"
      ]
     },
     "execution_count": 69,
     "metadata": {},
     "output_type": "execute_result"
    }
   ],
   "source": [
    "nadal_rankings['SINGLES'][nadal_rankings['DATE'] > '2006.01.01'].value_counts().sort_index()"
   ]
  },
  {
   "cell_type": "markdown",
   "metadata": {},
   "source": [
    "#### Table of Nadal's Rankings from 2006 to 2010\n",
    "\n",
    "Peaking: From 2006 to 2010 Nadal, along with Federer dominated men's tennis. He won xxx grand-slams and xx consecutive French Open titles. Take a look at his rankings shows his consistency. He only spent three weeks outside the top two. "
   ]
  },
  {
   "cell_type": "code",
   "execution_count": 70,
   "metadata": {
    "collapsed": false
   },
   "outputs": [
    {
     "data": {
      "text/plain": [
       "0      1\n",
       "1    124\n",
       "2    211\n",
       "3     35\n",
       "4     30\n",
       "5     16\n",
       "Name: SINGLES, dtype: int64"
      ]
     },
     "execution_count": 70,
     "metadata": {},
     "output_type": "execute_result"
    }
   ],
   "source": [
    "nadal_rankings['SINGLES'][(nadal_rankings['DATE'] < '2015.01.01') & \n",
    "    (nadal_rankings['DATE'] > '2006.01.01')].value_counts().sort_index()"
   ]
  },
  {
   "cell_type": "markdown",
   "metadata": {},
   "source": [
    "#### Table of Nadal's Rankings from 2010 to 2015"
   ]
  },
  {
   "cell_type": "code",
   "execution_count": 71,
   "metadata": {
    "collapsed": false
   },
   "outputs": [
    {
     "data": {
      "text/plain": [
       "0     1\n",
       "1    84\n",
       "2    70\n",
       "3    32\n",
       "4    30\n",
       "5    16\n",
       "Name: SINGLES, dtype: int64"
      ]
     },
     "execution_count": 71,
     "metadata": {},
     "output_type": "execute_result"
    }
   ],
   "source": [
    "nadal_rankings['SINGLES'][(nadal_rankings['DATE'] < '2015.01.01') & \n",
    "    (nadal_rankings['DATE'] > '2010.01.01')].value_counts().sort_index()"
   ]
  },
  {
   "cell_type": "markdown",
   "metadata": {},
   "source": [
    "#### Table of Nadal's Rankings from 2015 to now\n",
    "\n",
    "Over the last year and a half Nadal has struggled wiht injuries and has not been able to challenge the top players consistently. He has spent most of his time at #5, his current ranking, and has fallen as low as #10. "
   ]
  },
  {
   "cell_type": "code",
   "execution_count": 72,
   "metadata": {
    "collapsed": false,
    "scrolled": true
   },
   "outputs": [
    {
     "data": {
      "text/plain": [
       "3      9\n",
       "4      4\n",
       "5     24\n",
       "6      1\n",
       "7      9\n",
       "8      4\n",
       "9      2\n",
       "10     7\n",
       "Name: SINGLES, dtype: int64"
      ]
     },
     "execution_count": 72,
     "metadata": {},
     "output_type": "execute_result"
    }
   ],
   "source": [
    "nadal_rankings['SINGLES'][nadal_rankings['DATE'] > '2015.01.01'].value_counts().sort_index()"
   ]
  },
  {
   "cell_type": "markdown",
   "metadata": {},
   "source": [
    "#### The obvious question then is what changed?"
   ]
  },
  {
   "cell_type": "markdown",
   "metadata": {},
   "source": [
    "### Graphs and tables to show data on Nadal's Opponents"
   ]
  },
  {
   "cell_type": "markdown",
   "metadata": {},
   "source": [
    "#### We have data on 141 matches with Nadal"
   ]
  },
  {
   "cell_type": "code",
   "execution_count": 73,
   "metadata": {
    "collapsed": false
   },
   "outputs": [
    {
     "data": {
      "text/plain": [
       "match_id      141\n",
       "Player 1      141\n",
       "Player 2      141\n",
       "Pl 1 hand     141\n",
       "Pl 2 hand     141\n",
       "Gender        141\n",
       "Date          141\n",
       "Tournament    141\n",
       "Round         141\n",
       "Time           69\n",
       "Court         103\n",
       "Surface       141\n",
       "Umpire         93\n",
       "Best of       141\n",
       "Final TB?     141\n",
       "Charted by    141\n",
       "dtype: int64"
      ]
     },
     "execution_count": 73,
     "metadata": {},
     "output_type": "execute_result"
    }
   ],
   "source": [
    "match_data[(match_data['Player 1'] == 'Rafael Nadal') | \n",
    "           (match_data['Player 2'] == 'Rafael Nadal') ].count()"
   ]
  },
  {
   "cell_type": "code",
   "execution_count": 74,
   "metadata": {
    "collapsed": false
   },
   "outputs": [
    {
     "data": {
      "text/plain": [
       "both          1052\n",
       "right_only       0\n",
       "left_only        0\n",
       "dtype: int64"
      ]
     },
     "execution_count": 74,
     "metadata": {},
     "output_type": "execute_result"
    }
   ],
   "source": [
    "# making a consolidated dataset for nadal matches\n",
    "nadal_match_data = match_data[(match_data['Player 1'] == 'Rafael Nadal') | \n",
    "                              (match_data['Player 2'] == 'Rafael Nadal') ]\n",
    "\n",
    "nadal_data = nadal_match_data.merge(match_overview_data, on = 'match_id', how = 'inner', indicator = True)\n",
    "nadal_data['_merge'].value_counts()\n"
   ]
  },
  {
   "cell_type": "code",
   "execution_count": 75,
   "metadata": {
    "collapsed": false
   },
   "outputs": [
    {
     "data": {
      "text/plain": [
       "1        282\n",
       "Total    282\n",
       "2        280\n",
       "3        142\n",
       "4         52\n",
       "5         14\n",
       "Name: set, dtype: int64"
      ]
     },
     "execution_count": 75,
     "metadata": {},
     "output_type": "execute_result"
    }
   ],
   "source": [
    "nadal_data['set'].value_counts()\n"
   ]
  },
  {
   "cell_type": "markdown",
   "metadata": {},
   "source": [
    "#### Opponents in the data"
   ]
  },
  {
   "cell_type": "code",
   "execution_count": 76,
   "metadata": {
    "collapsed": false,
    "scrolled": true
   },
   "outputs": [
    {
     "data": {
      "text/plain": [
       "Novak Djokovic           23\n",
       "Roger Federer            18\n",
       "David Ferrer              7\n",
       "John Isner                3\n",
       "Robin Soderling           3\n",
       "Andy Murray               3\n",
       "Tomas Berdych             3\n",
       "Richard Gasquet           2\n",
       "Stanislas Wawrinka        2\n",
       "Fabio Fognini             2\n",
       "Dustin Brown              2\n",
       "Fernando Verdasco         2\n",
       "Grigor Dimitrov           2\n",
       "Milos Raonic              2\n",
       "Andy Roddick              1\n",
       "Nicolas Kiefer            1\n",
       "Jarkko Nieminen           1\n",
       "Mikhail Youzhny           1\n",
       "Juan Martin Del Potro     1\n",
       "Horacio Zeballos          1\n",
       "Mariano Puerta            1\n",
       "Ivan Dodig                1\n",
       "Bernard Tomic             1\n",
       "Radek Stepanek            1\n",
       "Robby Ginepri             1\n",
       "Sergiy Stakhovsky         1\n",
       "Nicolas Almagro           1\n",
       "Thanasi Kokkinakis        1\n",
       "Nick Kyrgios              1\n",
       "Denis Istomin             1\n",
       "Albert Montanes           1\n",
       "Andreas Seppi             1\n",
       "Peter Gojowczyk           1\n",
       "Alexandr Dolgopolov       1\n",
       "Gilles Simon              1\n",
       "Leonardo Mayer            1\n",
       "Thomaz Bellucci           1\n",
       "Ernests Gulbis            1\n",
       "Gael Monfils              1\n",
       "Albert Ramos              1\n",
       "Lleyton Hewitt            1\n",
       "Mikhail Kukushkin         1\n",
       "Roberto Bautista Agut     1\n",
       "Kei Nishikori             1\n",
       "Name: Player 1, dtype: int64"
      ]
     },
     "execution_count": 76,
     "metadata": {},
     "output_type": "execute_result"
    }
   ],
   "source": [
    "nadal_match_data['Player 1'][nadal_match_data['Player 1'] != 'Rafael Nadal'].value_counts()"
   ]
  },
  {
   "cell_type": "code",
   "execution_count": 77,
   "metadata": {
    "collapsed": false,
    "scrolled": true
   },
   "outputs": [
    {
     "data": {
      "text/plain": [
       "Dominic Thiem                  2\n",
       "Alexandr Dolgopolov            2\n",
       "Novak Djokovic                 2\n",
       "Stanislas Wawrinka             2\n",
       "Lukas Rosol                    2\n",
       "Michael Berrer                 2\n",
       "Teymuraz Gabashvili            1\n",
       "Nikolay Davydenko              1\n",
       "Daniel Gimeno Traver           1\n",
       "Diego Sebastian Schwartzman    1\n",
       "Illya Marchenko                1\n",
       "Dusan Lajovic                  1\n",
       "Joao Sousa                     1\n",
       "Tobias Kamke                   1\n",
       "Fernando Gonzalez              1\n",
       "Juan Martin Del Potro          1\n",
       "Fabio Fognini                  1\n",
       "David Nalbandian               1\n",
       "Federico Delbonis              1\n",
       "Richard Gasquet                1\n",
       "Kei Nishikori                  1\n",
       "Grigor Dimitrov                1\n",
       "Gael Monfils                   1\n",
       "Roger Federer                  1\n",
       "Kevin Anderson                 1\n",
       "Juan Monaco                    1\n",
       "Robin Haase                    1\n",
       "Pablo Andujar                  1\n",
       "Pablo Carreno Busta            1\n",
       "Andy Murray                    1\n",
       "Juan Martin del Potro          1\n",
       "Name: Player 2, dtype: int64"
      ]
     },
     "execution_count": 77,
     "metadata": {},
     "output_type": "execute_result"
    }
   ],
   "source": [
    "nadal_match_data['Player 2'][nadal_match_data['Player 2'] != 'Rafael Nadal'].value_counts()"
   ]
  },
  {
   "cell_type": "markdown",
   "metadata": {},
   "source": [
    "#### The dataset has 131 Right handed opponnents and 10 Left handed opponents"
   ]
  },
  {
   "cell_type": "code",
   "execution_count": 78,
   "metadata": {
    "collapsed": false
   },
   "outputs": [
    {
     "data": {
      "text/plain": [
       "R     66\n",
       "R     31\n",
       "L      7\n",
       "Name: Pl 1 hand, dtype: int64"
      ]
     },
     "execution_count": 78,
     "metadata": {},
     "output_type": "execute_result"
    }
   ],
   "source": [
    "nadal_match_data['Pl 1 hand'][nadal_match_data['Player 1'] != 'Rafael Nadal'].value_counts()"
   ]
  },
  {
   "cell_type": "code",
   "execution_count": 79,
   "metadata": {
    "collapsed": false
   },
   "outputs": [
    {
     "data": {
      "text/plain": [
       "R     23\n",
       "R     11\n",
       "L      3\n",
       "Name: Pl 2 hand, dtype: int64"
      ]
     },
     "execution_count": 79,
     "metadata": {},
     "output_type": "execute_result"
    }
   ],
   "source": [
    "nadal_match_data['Pl 2 hand'][nadal_match_data['Player 2'] != 'Rafael Nadal'].value_counts()"
   ]
  },
  {
   "cell_type": "markdown",
   "metadata": {},
   "source": [
    "#### 66 matches on hard courts, 61 on clay and 12 on Grass"
   ]
  },
  {
   "cell_type": "code",
   "execution_count": 80,
   "metadata": {
    "collapsed": false
   },
   "outputs": [
    {
     "data": {
      "text/plain": [
       "Hard           66\n",
       "Clay           60\n",
       "Grass          12\n",
       "Indoor hard     2\n",
       "Clay            1\n",
       "Name: Surface, dtype: int64"
      ]
     },
     "execution_count": 80,
     "metadata": {},
     "output_type": "execute_result"
    }
   ],
   "source": [
    "nadal_match_data['Surface'].value_counts()"
   ]
  },
  {
   "cell_type": "code",
   "execution_count": 81,
   "metadata": {
    "collapsed": false,
    "scrolled": true
   },
   "outputs": [],
   "source": [
    "# creating an id for the player # that nadal has been assigned. ie nadal_id = 1 if nadal is player 1, 2 if nadal is player 2\n",
    "nadal_data['nadal_id'] = np.nan\n",
    "\n",
    "nadal_data['nadal_id'] = nadal_data[(nadal_data['Player 1'] == 'Rafael Nadal')]['nadal_id'].fillna(1)\n",
    "nadal_data['nadal_id'] = nadal_data['nadal_id'].fillna(2)\n"
   ]
  },
  {
   "cell_type": "code",
   "execution_count": 82,
   "metadata": {
    "collapsed": true
   },
   "outputs": [],
   "source": [
    "nadal_data['Date'] = pd.to_datetime(nadal_data['Date'])"
   ]
  },
  {
   "cell_type": "markdown",
   "metadata": {},
   "source": [
    "### Win %"
   ]
  },
  {
   "cell_type": "code",
   "execution_count": 63,
   "metadata": {
    "collapsed": false
   },
   "outputs": [],
   "source": [
    "nadal_results = atp_results[(atp_results['winner_name'] == \"Rafael Nadal\") | (atp_results['loser_name'] == \"Rafael Nadal\")]"
   ]
  },
  {
   "cell_type": "code",
   "execution_count": 99,
   "metadata": {
    "collapsed": false
   },
   "outputs": [
    {
     "data": {
      "text/plain": [
       "0.85238784370477572"
      ]
     },
     "execution_count": 99,
     "metadata": {},
     "output_type": "execute_result"
    }
   ],
   "source": [
    "number_matches_won_phase1_2 = nadal_results[(nadal_results['tourney_date'] > 20060000) \n",
    "                                            & (nadal_results['tourney_date'] < 20150000)]['winner_name'].value_counts()  \n",
    "\n",
    "number_matches_played_phase1_2 = nadal_results[(nadal_results['tourney_date'] > 20060000) \n",
    "                                               & (nadal_results['tourney_date'] < 20150000)]['winner_name'].count()\n",
    "\n",
    "number_matches_won_phase1_2['Rafael Nadal'] / number_matches_played_phase1_2"
   ]
  },
  {
   "cell_type": "code",
   "execution_count": 100,
   "metadata": {
    "collapsed": false
   },
   "outputs": [
    {
     "data": {
      "text/plain": [
       "0.75308641975308643"
      ]
     },
     "execution_count": 100,
     "metadata": {},
     "output_type": "execute_result"
    }
   ],
   "source": [
    "number_matches_won_phase3 = nadal_results[(nadal_results['tourney_date'] >= 20150000)]['winner_name'].value_counts()  \n",
    "\n",
    "number_matches_played_phase3 = nadal_results[(nadal_results['tourney_date'] >= 20150000)]['winner_name'].count()\n",
    "\n",
    "number_matches_won_phase3['Rafael Nadal'] / number_matches_played_phase3"
   ]
  },
  {
   "cell_type": "markdown",
   "metadata": {},
   "source": [
    "## Key Indicators of Nadal's Game"
   ]
  },
  {
   "cell_type": "markdown",
   "metadata": {},
   "source": [
    "### Serve Analysis\n",
    "\n",
    "If we compare Nadal's service statistics between 2006 and 2015 with his service statistics after 2015, we see that he is getting his serves in with the same consistency, but is winning less points per first serve or per second serve.\n",
    "\n",
    "The percentage of points won on his first serve is down from 71% to 69% and the variance has also increased.\n",
    "\n",
    "The win percentage for the second serve is down from 56% to just 51% since 2015."
   ]
  },
  {
   "cell_type": "code",
   "execution_count": 83,
   "metadata": {
    "collapsed": true
   },
   "outputs": [],
   "source": [
    "# constructing important indicators\n",
    "\n",
    "nadal_data['first_in_perc'] = nadal_data['first_in'] / nadal_data['serve_pts']\n",
    "nadal_data['first_won_perc'] = nadal_data['first_won'] / nadal_data['first_in']\n",
    "\n",
    "nadal_data['second_in_perc'] = nadal_data['second_in'] / nadal_data['serve_pts']\n",
    "nadal_data['second_won_perc'] = nadal_data['second_won'] / nadal_data['second_in']\n"
   ]
  },
  {
   "cell_type": "markdown",
   "metadata": {},
   "source": [
    "---"
   ]
  },
  {
   "cell_type": "code",
   "execution_count": 136,
   "metadata": {
    "collapsed": false
   },
   "outputs": [
    {
     "data": {
      "text/plain": [
       "Ttest_indResult(statistic=1.7563600681915756, pvalue=0.081245199270431626)"
      ]
     },
     "execution_count": 136,
     "metadata": {},
     "output_type": "execute_result"
    }
   ],
   "source": [
    "stats.ttest_ind(nadal_data[(nadal_data['Date'] < '2015-01-01') & \n",
    "           (nadal_data['Date'] > '2006-01-01') &\n",
    "           (nadal_data['set'] == 'Total') &\n",
    "           (nadal_data['nadal_id'] == nadal_data['player'])]['second_won_perc'],\n",
    "            nadal_data[(nadal_data['Date'] > '2015-01-01') &\n",
    "           (nadal_data['set'] == 'Total') &\n",
    "           (nadal_data['nadal_id'] == nadal_data['player'])]['second_won_perc'])"
   ]
  },
  {
   "cell_type": "markdown",
   "metadata": {},
   "source": []
  },
  {
   "cell_type": "code",
   "execution_count": 84,
   "metadata": {
    "collapsed": false
   },
   "outputs": [
    {
     "data": {
      "text/plain": [
       "count    113.000000\n",
       "mean       0.698034\n",
       "std        0.065817\n",
       "min        0.405797\n",
       "25%        0.651163\n",
       "50%        0.705263\n",
       "75%        0.743243\n",
       "max        0.833333\n",
       "Name: first_in_perc, dtype: float64"
      ]
     },
     "execution_count": 84,
     "metadata": {},
     "output_type": "execute_result"
    }
   ],
   "source": [
    "nadal_data[(nadal_data['Date'] < '2015-01-01') & \n",
    "           (nadal_data['Date'] > '2006-01-01') &\n",
    "           (nadal_data['set'] == 'Total') &\n",
    "           (nadal_data['nadal_id'] == nadal_data['player'])]['first_in_perc'].describe()"
   ]
  },
  {
   "cell_type": "code",
   "execution_count": 85,
   "metadata": {
    "collapsed": false
   },
   "outputs": [
    {
     "data": {
      "text/plain": [
       "count    27.000000\n",
       "mean      0.695918\n",
       "std       0.047391\n",
       "min       0.607843\n",
       "25%       0.668776\n",
       "50%       0.698795\n",
       "75%       0.727556\n",
       "max       0.806452\n",
       "Name: first_in_perc, dtype: float64"
      ]
     },
     "execution_count": 85,
     "metadata": {},
     "output_type": "execute_result"
    }
   ],
   "source": [
    "nadal_data[(nadal_data['Date'] > '2015-01-01') &\n",
    "           (nadal_data['set'] == 'Total') &\n",
    "           (nadal_data['nadal_id'] == nadal_data['player'])]['first_in_perc'].describe()"
   ]
  },
  {
   "cell_type": "markdown",
   "metadata": {},
   "source": [
    "---"
   ]
  },
  {
   "cell_type": "code",
   "execution_count": 86,
   "metadata": {
    "collapsed": false
   },
   "outputs": [
    {
     "data": {
      "text/plain": [
       "(array([  1.,   0.,   0.,   0.,   0.,   0.,   0.,   0.,   3.,   3.,   4.,\n",
       "         12.,  10.,   9.,  12.,  14.,  11.,  14.,  11.,   5.,   3.,   1.,\n",
       "          0.,   0.,   0.,   0.,   0.,   0.,   0.,   0.]),\n",
       " array([ 0.4 ,  0.42,  0.44,  0.46,  0.48,  0.5 ,  0.52,  0.54,  0.56,\n",
       "         0.58,  0.6 ,  0.62,  0.64,  0.66,  0.68,  0.7 ,  0.72,  0.74,\n",
       "         0.76,  0.78,  0.8 ,  0.82,  0.84,  0.86,  0.88,  0.9 ,  0.92,\n",
       "         0.94,  0.96,  0.98,  1.  ]),\n",
       " <a list of 30 Patch objects>)"
      ]
     },
     "execution_count": 86,
     "metadata": {},
     "output_type": "execute_result"
    },
    {
     "data": {
      "image/png": "[encoded data removed]",
      "text/plain": [
       "<matplotlib.figure.Figure at 0x10455e4e0>"
      ]
     },
     "metadata": {},
     "output_type": "display_data"
    }
   ],
   "source": [
    "pyplot.hist(nadal_data[(nadal_data['Date'] < '2015-01-01') & \n",
    "                       (nadal_data['Date'] > '2006-01-01') &\n",
    "                       (nadal_data['set'] == 'Total') &\n",
    "                       (nadal_data['nadal_id'] == nadal_data['player'])]['first_in_perc'],\n",
    "           range = (0.4, 1), bins = 30)\n",
    "    \n"
   ]
  },
  {
   "cell_type": "code",
   "execution_count": 87,
   "metadata": {
    "collapsed": false
   },
   "outputs": [
    {
     "data": {
      "text/plain": [
       "(array([ 0.,  0.,  0.,  0.,  0.,  0.,  0.,  0.,  0.,  0.,  1.,  3.,  2.,\n",
       "         5.,  3.,  5.,  5.,  1.,  0.,  1.,  1.,  0.,  0.,  0.,  0.,  0.,\n",
       "         0.,  0.,  0.,  0.]),\n",
       " array([ 0.4 ,  0.42,  0.44,  0.46,  0.48,  0.5 ,  0.52,  0.54,  0.56,\n",
       "         0.58,  0.6 ,  0.62,  0.64,  0.66,  0.68,  0.7 ,  0.72,  0.74,\n",
       "         0.76,  0.78,  0.8 ,  0.82,  0.84,  0.86,  0.88,  0.9 ,  0.92,\n",
       "         0.94,  0.96,  0.98,  1.  ]),\n",
       " <a list of 30 Patch objects>)"
      ]
     },
     "execution_count": 87,
     "metadata": {},
     "output_type": "execute_result"
    },
    {
     "data": {
      "image/png": "[encoded data removed]",
      "text/plain": [
       "<matplotlib.figure.Figure at 0x10455e080>"
      ]
     },
     "metadata": {},
     "output_type": "display_data"
    }
   ],
   "source": [
    "pyplot.hist(nadal_data[(nadal_data['Date'] > '2015-01-01') &\n",
    "                       (nadal_data['set'] == 'Total') &\n",
    "                       (nadal_data['nadal_id'] == nadal_data['player'])]['first_in_perc'],\n",
    "           range = (0.4, 1), bins = 30)\n"
   ]
  },
  {
   "cell_type": "markdown",
   "metadata": {},
   "source": [
    "---"
   ]
  },
  {
   "cell_type": "code",
   "execution_count": 88,
   "metadata": {
    "collapsed": false,
    "slideshow": {
     "slide_type": "-"
    }
   },
   "outputs": [
    {
     "data": {
      "text/plain": [
       "count    113.000000\n",
       "mean      79.973451\n",
       "std       36.806313\n",
       "min       26.000000\n",
       "25%       52.000000\n",
       "50%       72.000000\n",
       "75%       93.000000\n",
       "max      218.000000\n",
       "Name: serve_pts, dtype: float64"
      ]
     },
     "execution_count": 88,
     "metadata": {},
     "output_type": "execute_result"
    }
   ],
   "source": [
    "nadal_data[(nadal_data['Date'] < '2015-01-01') & \n",
    "           (nadal_data['Date'] > '2006-01-01') &\n",
    "           (nadal_data['set'] == 'Total') &\n",
    "           (nadal_data['nadal_id'] == nadal_data['player'])]['serve_pts'].describe()"
   ]
  },
  {
   "cell_type": "code",
   "execution_count": 89,
   "metadata": {
    "collapsed": false
   },
   "outputs": [
    {
     "data": {
      "text/plain": [
       "count     27.000000\n",
       "mean      74.925926\n",
       "std       27.266387\n",
       "min       38.000000\n",
       "25%       52.000000\n",
       "50%       73.000000\n",
       "75%       94.500000\n",
       "max      138.000000\n",
       "Name: serve_pts, dtype: float64"
      ]
     },
     "execution_count": 89,
     "metadata": {},
     "output_type": "execute_result"
    }
   ],
   "source": [
    "nadal_data[(nadal_data['Date'] > '2015-01-01') &\n",
    "           (nadal_data['set'] == 'Total') &\n",
    "           (nadal_data['nadal_id'] == nadal_data['player'])]['serve_pts'].describe()"
   ]
  },
  {
   "cell_type": "markdown",
   "metadata": {},
   "source": [
    "---"
   ]
  },
  {
   "cell_type": "code",
   "execution_count": 90,
   "metadata": {
    "collapsed": false
   },
   "outputs": [
    {
     "data": {
      "text/plain": [
       "count    113.000000\n",
       "mean       0.711456\n",
       "std        0.085209\n",
       "min        0.466667\n",
       "25%        0.666667\n",
       "50%        0.711111\n",
       "75%        0.761905\n",
       "max        0.913043\n",
       "Name: first_won_perc, dtype: float64"
      ]
     },
     "execution_count": 90,
     "metadata": {},
     "output_type": "execute_result"
    }
   ],
   "source": [
    "nadal_data[(nadal_data['Date'] < '2015-01-01') & \n",
    "           (nadal_data['Date'] > '2006-01-01') &\n",
    "           (nadal_data['set'] == 'Total') &\n",
    "           (nadal_data['nadal_id'] == nadal_data['player'])]['first_won_perc'].describe()"
   ]
  },
  {
   "cell_type": "code",
   "execution_count": 91,
   "metadata": {
    "collapsed": false
   },
   "outputs": [
    {
     "data": {
      "text/plain": [
       "count    27.000000\n",
       "mean      0.690204\n",
       "std       0.106784\n",
       "min       0.481481\n",
       "25%       0.607492\n",
       "50%       0.695652\n",
       "75%       0.761538\n",
       "max       0.891892\n",
       "Name: first_won_perc, dtype: float64"
      ]
     },
     "execution_count": 91,
     "metadata": {},
     "output_type": "execute_result"
    }
   ],
   "source": [
    "nadal_data[(nadal_data['Date'] > '2015-01-01') &\n",
    "           (nadal_data['set'] == 'Total') &\n",
    "           (nadal_data['nadal_id'] == nadal_data['player'])]['first_won_perc'].describe()"
   ]
  },
  {
   "cell_type": "code",
   "execution_count": 92,
   "metadata": {
    "collapsed": false
   },
   "outputs": [
    {
     "data": {
      "text/plain": [
       "(array([  1.,   0.,   0.,   0.,   1.,   3.,   1.,   3.,   4.,   1.,   5.,\n",
       "          3.,   3.,  10.,   7.,  11.,  11.,  13.,   3.,   5.,   6.,   3.,\n",
       "          3.,   3.,   4.,   3.,   2.,   1.,   1.,   2.]),\n",
       " array([ 0.46666667,  0.48154589,  0.49642512,  0.51130435,  0.52618357,\n",
       "         0.5410628 ,  0.55594203,  0.57082126,  0.58570048,  0.60057971,\n",
       "         0.61545894,  0.63033816,  0.64521739,  0.66009662,  0.67497585,\n",
       "         0.68985507,  0.7047343 ,  0.71961353,  0.73449275,  0.74937198,\n",
       "         0.76425121,  0.77913043,  0.79400966,  0.80888889,  0.82376812,\n",
       "         0.83864734,  0.85352657,  0.8684058 ,  0.88328502,  0.89816425,\n",
       "         0.91304348]),\n",
       " <a list of 30 Patch objects>)"
      ]
     },
     "execution_count": 92,
     "metadata": {},
     "output_type": "execute_result"
    },
    {
     "data": {
      "image/png": "[encoded data removed]",
      "text/plain": [
       "<matplotlib.figure.Figure at 0x119fbfda0>"
      ]
     },
     "metadata": {},
     "output_type": "display_data"
    }
   ],
   "source": [
    "pyplot.hist(nadal_data[(nadal_data['Date'] < '2015-01-01') & \n",
    "                       (nadal_data['Date'] > '2006-01-01') &\n",
    "                       (nadal_data['set'] == 'Total') &\n",
    "                       (nadal_data['nadal_id'] == nadal_data['player'])]['first_won_perc'],\n",
    " bins = 30)"
   ]
  },
  {
   "cell_type": "code",
   "execution_count": 93,
   "metadata": {
    "collapsed": false
   },
   "outputs": [
    {
     "data": {
      "text/plain": [
       "(array([ 1.,  0.,  0.,  0.,  1.,  2.,  0.,  1.,  2.,  1.,  1.,  1.,  1.,\n",
       "         0.,  2.,  1.,  2.,  2.,  0.,  2.,  0.,  2.,  0.,  0.,  1.,  2.,\n",
       "         0.,  0.,  1.,  1.]),\n",
       " array([ 0.48148148,  0.49516183,  0.50884218,  0.52252252,  0.53620287,\n",
       "         0.54988322,  0.56356356,  0.57724391,  0.59092426,  0.6046046 ,\n",
       "         0.61828495,  0.6319653 ,  0.64564565,  0.65932599,  0.67300634,\n",
       "         0.68668669,  0.70036703,  0.71404738,  0.72772773,  0.74140807,\n",
       "         0.75508842,  0.76876877,  0.78244912,  0.79612946,  0.80980981,\n",
       "         0.82349016,  0.8371705 ,  0.85085085,  0.8645312 ,  0.87821154,\n",
       "         0.89189189]),\n",
       " <a list of 30 Patch objects>)"
      ]
     },
     "execution_count": 93,
     "metadata": {},
     "output_type": "execute_result"
    },
    {
     "data": {
      "image/png": "[encoded data removed]",
      "text/plain": [
       "<matplotlib.figure.Figure at 0x11a951eb8>"
      ]
     },
     "metadata": {},
     "output_type": "display_data"
    }
   ],
   "source": [
    "pyplot.hist(nadal_data[(nadal_data['Date'] > '2015-01-01') &\n",
    "                       (nadal_data['set'] == 'Total') &\n",
    "                       (nadal_data['nadal_id'] == nadal_data['player'])]['first_won_perc'],\n",
    " bins = 30)\n"
   ]
  },
  {
   "cell_type": "markdown",
   "metadata": {},
   "source": [
    "---"
   ]
  },
  {
   "cell_type": "code",
   "execution_count": 94,
   "metadata": {
    "collapsed": false
   },
   "outputs": [
    {
     "data": {
      "text/plain": [
       "count    113.000000\n",
       "mean       0.301966\n",
       "std        0.065817\n",
       "min        0.166667\n",
       "25%        0.256757\n",
       "50%        0.294737\n",
       "75%        0.348837\n",
       "max        0.594203\n",
       "Name: second_in_perc, dtype: float64"
      ]
     },
     "execution_count": 94,
     "metadata": {},
     "output_type": "execute_result"
    }
   ],
   "source": [
    "nadal_data[(nadal_data['Date'] < '2015-01-01') & \n",
    "           (nadal_data['Date'] > '2006-01-01') &\n",
    "           (nadal_data['set'] == 'Total') &\n",
    "           (nadal_data['nadal_id'] == nadal_data['player'])]['second_in_perc'].describe()"
   ]
  },
  {
   "cell_type": "code",
   "execution_count": 95,
   "metadata": {
    "collapsed": false
   },
   "outputs": [
    {
     "data": {
      "text/plain": [
       "count    27.000000\n",
       "mean      0.304082\n",
       "std       0.047391\n",
       "min       0.193548\n",
       "25%       0.272444\n",
       "50%       0.301205\n",
       "75%       0.331224\n",
       "max       0.392157\n",
       "Name: second_in_perc, dtype: float64"
      ]
     },
     "execution_count": 95,
     "metadata": {},
     "output_type": "execute_result"
    }
   ],
   "source": [
    "nadal_data[(nadal_data['Date'] > '2015-01-01') &\n",
    "           (nadal_data['set'] == 'Total') &\n",
    "           (nadal_data['nadal_id'] == nadal_data['player'])]['second_in_perc'].describe()"
   ]
  },
  {
   "cell_type": "markdown",
   "metadata": {},
   "source": [
    "---"
   ]
  },
  {
   "cell_type": "code",
   "execution_count": 96,
   "metadata": {
    "collapsed": false
   },
   "outputs": [
    {
     "data": {
      "text/plain": [
       "count    113.000000\n",
       "mean       0.565263\n",
       "std        0.134702\n",
       "min        0.187500\n",
       "25%        0.473684\n",
       "50%        0.565217\n",
       "75%        0.642857\n",
       "max        0.866667\n",
       "Name: second_won_perc, dtype: float64"
      ]
     },
     "execution_count": 96,
     "metadata": {},
     "output_type": "execute_result"
    }
   ],
   "source": [
    "nadal_data[(nadal_data['Date'] < '2015-01-01') & \n",
    "           (nadal_data['Date'] > '2006-01-01') &\n",
    "           (nadal_data['set'] == 'Total') &\n",
    "           (nadal_data['nadal_id'] == nadal_data['player'])]['second_won_perc'].describe()"
   ]
  },
  {
   "cell_type": "code",
   "execution_count": 97,
   "metadata": {
    "collapsed": false
   },
   "outputs": [
    {
     "data": {
      "text/plain": [
       "count    27.000000\n",
       "mean      0.516273\n",
       "std       0.108769\n",
       "min       0.285714\n",
       "25%       0.450957\n",
       "50%       0.516129\n",
       "75%       0.612500\n",
       "max       0.666667\n",
       "Name: second_won_perc, dtype: float64"
      ]
     },
     "execution_count": 97,
     "metadata": {},
     "output_type": "execute_result"
    }
   ],
   "source": [
    "nadal_data[(nadal_data['Date'] > '2015-01-01') &\n",
    "           (nadal_data['set'] == 'Total') &\n",
    "           (nadal_data['nadal_id'] == nadal_data['player'])]['second_won_perc'].describe()"
   ]
  },
  {
   "cell_type": "markdown",
   "metadata": {},
   "source": [
    "### Groundstrokes"
   ]
  },
  {
   "cell_type": "code",
   "execution_count": 98,
   "metadata": {
    "collapsed": false
   },
   "outputs": [
    {
     "data": {
      "text/plain": [
       "count    113.000000\n",
       "mean       6.238938\n",
       "std        4.430564\n",
       "min        0.000000\n",
       "25%        3.000000\n",
       "50%        5.000000\n",
       "75%        9.000000\n",
       "max       20.000000\n",
       "Name: bk_pts, dtype: float64"
      ]
     },
     "execution_count": 98,
     "metadata": {},
     "output_type": "execute_result"
    }
   ],
   "source": [
    "nadal_data[(nadal_data['Date'] < '2015-01-01') & \n",
    "           (nadal_data['Date'] > '2006-01-01') &\n",
    "           (nadal_data['set'] == 'Total') &\n",
    "           (nadal_data['nadal_id'] == nadal_data['player'])]['bk_pts'].describe()"
   ]
  },
  {
   "cell_type": "code",
   "execution_count": 99,
   "metadata": {
    "collapsed": false
   },
   "outputs": [
    {
     "data": {
      "text/plain": [
       "count    27.000000\n",
       "mean      6.333333\n",
       "std       4.531938\n",
       "min       0.000000\n",
       "25%       3.000000\n",
       "50%       6.000000\n",
       "75%       8.000000\n",
       "max      18.000000\n",
       "Name: bk_pts, dtype: float64"
      ]
     },
     "execution_count": 99,
     "metadata": {},
     "output_type": "execute_result"
    }
   ],
   "source": [
    "nadal_data[(nadal_data['Date'] > '2015-01-01') &\n",
    "           (nadal_data['set'] == 'Total') &\n",
    "           (nadal_data['nadal_id'] == nadal_data['player'])]['bk_pts'].describe()"
   ]
  },
  {
   "cell_type": "markdown",
   "metadata": {},
   "source": [
    "---"
   ]
  },
  {
   "cell_type": "code",
   "execution_count": 100,
   "metadata": {
    "collapsed": false
   },
   "outputs": [
    {
     "data": {
      "text/plain": [
       "count    113.000000\n",
       "mean       4.053097\n",
       "std        3.316196\n",
       "min        0.000000\n",
       "25%        2.000000\n",
       "50%        3.000000\n",
       "75%        6.000000\n",
       "max       16.000000\n",
       "Name: bp_saved, dtype: float64"
      ]
     },
     "execution_count": 100,
     "metadata": {},
     "output_type": "execute_result"
    }
   ],
   "source": [
    "nadal_data[(nadal_data['Date'] < '2015-01-01') & \n",
    "           (nadal_data['Date'] > '2006-01-01') &\n",
    "           (nadal_data['set'] == 'Total') &\n",
    "           (nadal_data['nadal_id'] == nadal_data['player'])]['bp_saved'].describe()"
   ]
  },
  {
   "cell_type": "code",
   "execution_count": 101,
   "metadata": {
    "collapsed": false
   },
   "outputs": [
    {
     "data": {
      "text/plain": [
       "count    27.000000\n",
       "mean      3.629630\n",
       "std       2.857489\n",
       "min       0.000000\n",
       "25%       2.000000\n",
       "50%       3.000000\n",
       "75%       5.500000\n",
       "max      11.000000\n",
       "Name: bp_saved, dtype: float64"
      ]
     },
     "execution_count": 101,
     "metadata": {},
     "output_type": "execute_result"
    }
   ],
   "source": [
    "nadal_data[(nadal_data['Date'] > '2015-01-01') &\n",
    "           (nadal_data['set'] == 'Total') &\n",
    "           (nadal_data['nadal_id'] == nadal_data['player'])]['bp_saved'].describe()"
   ]
  },
  {
   "cell_type": "markdown",
   "metadata": {},
   "source": [
    "---"
   ]
  },
  {
   "cell_type": "code",
   "execution_count": 102,
   "metadata": {
    "collapsed": false
   },
   "outputs": [
    {
     "data": {
      "text/plain": [
       "count    113.000000\n",
       "mean      34.522124\n",
       "std       14.051625\n",
       "min        6.000000\n",
       "25%       25.000000\n",
       "50%       34.000000\n",
       "75%       45.000000\n",
       "max       73.000000\n",
       "Name: return_pts_won, dtype: float64"
      ]
     },
     "execution_count": 102,
     "metadata": {},
     "output_type": "execute_result"
    }
   ],
   "source": [
    "nadal_data[(nadal_data['Date'] < '2015-01-01') & \n",
    "           (nadal_data['Date'] > '2006-01-01') &\n",
    "           (nadal_data['set'] == 'Total') &\n",
    "           (nadal_data['nadal_id'] == nadal_data['player'])]['return_pts_won'].describe() "
   ]
  },
  {
   "cell_type": "code",
   "execution_count": 103,
   "metadata": {
    "collapsed": false
   },
   "outputs": [
    {
     "data": {
      "text/plain": [
       "count    27.000000\n",
       "mean     29.592593\n",
       "std      13.820996\n",
       "min      10.000000\n",
       "25%      19.500000\n",
       "50%      26.000000\n",
       "75%      36.500000\n",
       "max      72.000000\n",
       "Name: return_pts_won, dtype: float64"
      ]
     },
     "execution_count": 103,
     "metadata": {},
     "output_type": "execute_result"
    }
   ],
   "source": [
    "nadal_data[(nadal_data['Date'] > '2015-01-01') &\n",
    "           (nadal_data['set'] == 'Total') &\n",
    "           (nadal_data['nadal_id'] == nadal_data['player'])]['return_pts_won'].describe()"
   ]
  },
  {
   "cell_type": "markdown",
   "metadata": {},
   "source": [
    "---"
   ]
  },
  {
   "cell_type": "code",
   "execution_count": 104,
   "metadata": {
    "collapsed": false
   },
   "outputs": [
    {
     "data": {
      "text/plain": [
       "count    113.000000\n",
       "mean      23.876106\n",
       "std       12.239524\n",
       "min        5.000000\n",
       "25%       15.000000\n",
       "50%       20.000000\n",
       "75%       30.000000\n",
       "max       65.000000\n",
       "Name: winners, dtype: float64"
      ]
     },
     "execution_count": 104,
     "metadata": {},
     "output_type": "execute_result"
    }
   ],
   "source": [
    "nadal_data[(nadal_data['Date'] < '2015-01-01') & \n",
    "           (nadal_data['Date'] > '2006-01-01') &\n",
    "           (nadal_data['set'] == 'Total') &\n",
    "           (nadal_data['nadal_id'] == nadal_data['player'])]['winners'].describe() "
   ]
  },
  {
   "cell_type": "code",
   "execution_count": 105,
   "metadata": {
    "collapsed": false
   },
   "outputs": [
    {
     "data": {
      "text/plain": [
       "count    27.000000\n",
       "mean     20.962963\n",
       "std       9.913012\n",
       "min       7.000000\n",
       "25%      14.000000\n",
       "50%      19.000000\n",
       "75%      27.000000\n",
       "max      47.000000\n",
       "Name: winners, dtype: float64"
      ]
     },
     "execution_count": 105,
     "metadata": {},
     "output_type": "execute_result"
    }
   ],
   "source": [
    "nadal_data[(nadal_data['Date'] > '2015-01-01') &\n",
    "           (nadal_data['set'] == 'Total') &\n",
    "           (nadal_data['nadal_id'] == nadal_data['player'])]['winners'].describe()"
   ]
  },
  {
   "cell_type": "markdown",
   "metadata": {},
   "source": [
    "---"
   ]
  },
  {
   "cell_type": "code",
   "execution_count": 106,
   "metadata": {
    "collapsed": false
   },
   "outputs": [
    {
     "data": {
      "text/plain": [
       "count    113.000000\n",
       "mean      14.805310\n",
       "std        7.560303\n",
       "min        2.000000\n",
       "25%        9.000000\n",
       "50%       13.000000\n",
       "75%       21.000000\n",
       "max       36.000000\n",
       "Name: winners_fh, dtype: float64"
      ]
     },
     "execution_count": 106,
     "metadata": {},
     "output_type": "execute_result"
    }
   ],
   "source": [
    "nadal_data[(nadal_data['Date'] < '2015-01-01') & \n",
    "           (nadal_data['Date'] > '2006-01-01') &\n",
    "           (nadal_data['set'] == 'Total') &\n",
    "           (nadal_data['nadal_id'] == nadal_data['player'])]['winners_fh'].describe() "
   ]
  },
  {
   "cell_type": "code",
   "execution_count": 107,
   "metadata": {
    "collapsed": false
   },
   "outputs": [
    {
     "data": {
      "text/plain": [
       "count    27.000000\n",
       "mean     12.000000\n",
       "std       5.629592\n",
       "min       3.000000\n",
       "25%       8.000000\n",
       "50%      12.000000\n",
       "75%      17.000000\n",
       "max      22.000000\n",
       "Name: winners_fh, dtype: float64"
      ]
     },
     "execution_count": 107,
     "metadata": {},
     "output_type": "execute_result"
    }
   ],
   "source": [
    "nadal_data[(nadal_data['Date'] > '2015-01-01') &\n",
    "           (nadal_data['set'] == 'Total') &\n",
    "           (nadal_data['nadal_id'] == nadal_data['player'])]['winners_fh'].describe()"
   ]
  },
  {
   "cell_type": "markdown",
   "metadata": {},
   "source": [
    "---"
   ]
  },
  {
   "cell_type": "code",
   "execution_count": 108,
   "metadata": {
    "collapsed": false
   },
   "outputs": [
    {
     "data": {
      "text/plain": [
       "count    113.000000\n",
       "mean       5.185841\n",
       "std        3.534394\n",
       "min        0.000000\n",
       "25%        3.000000\n",
       "50%        4.000000\n",
       "75%        7.000000\n",
       "max       16.000000\n",
       "Name: winners_bh, dtype: float64"
      ]
     },
     "execution_count": 108,
     "metadata": {},
     "output_type": "execute_result"
    }
   ],
   "source": [
    "nadal_data[(nadal_data['Date'] < '2015-01-01') & \n",
    "           (nadal_data['Date'] > '2006-01-01') &\n",
    "           (nadal_data['set'] == 'Total') &\n",
    "           (nadal_data['nadal_id'] == nadal_data['player'])]['winners_bh'].describe()"
   ]
  },
  {
   "cell_type": "code",
   "execution_count": 109,
   "metadata": {
    "collapsed": false
   },
   "outputs": [
    {
     "data": {
      "text/plain": [
       "count    27.000000\n",
       "mean      5.185185\n",
       "std       3.174866\n",
       "min       1.000000\n",
       "25%       3.000000\n",
       "50%       4.000000\n",
       "75%       7.000000\n",
       "max      14.000000\n",
       "Name: winners_bh, dtype: float64"
      ]
     },
     "execution_count": 109,
     "metadata": {},
     "output_type": "execute_result"
    }
   ],
   "source": [
    "nadal_data[(nadal_data['Date'] > '2015-01-01') &\n",
    "           (nadal_data['set'] == 'Total') &\n",
    "           (nadal_data['nadal_id'] == nadal_data['player'])]['winners_bh'].describe()"
   ]
  },
  {
   "cell_type": "markdown",
   "metadata": {},
   "source": [
    "---"
   ]
  },
  {
   "cell_type": "code",
   "execution_count": 110,
   "metadata": {
    "collapsed": false
   },
   "outputs": [
    {
     "data": {
      "text/plain": [
       "count    113.00000\n",
       "mean      22.40708\n",
       "std       11.11919\n",
       "min        2.00000\n",
       "25%       14.00000\n",
       "50%       21.00000\n",
       "75%       30.00000\n",
       "max       63.00000\n",
       "Name: unforced, dtype: float64"
      ]
     },
     "execution_count": 110,
     "metadata": {},
     "output_type": "execute_result"
    }
   ],
   "source": [
    "nadal_data[(nadal_data['Date'] < '2015-01-01') & \n",
    "           (nadal_data['Date'] > '2006-01-01') &\n",
    "           (nadal_data['set'] == 'Total') &\n",
    "           (nadal_data['nadal_id'] == nadal_data['player'])]['unforced'].describe()"
   ]
  },
  {
   "cell_type": "code",
   "execution_count": 111,
   "metadata": {
    "collapsed": false
   },
   "outputs": [
    {
     "data": {
      "text/plain": [
       "count    27.000000\n",
       "mean     22.481481\n",
       "std      10.595247\n",
       "min       3.000000\n",
       "25%      14.500000\n",
       "50%      22.000000\n",
       "75%      27.500000\n",
       "max      45.000000\n",
       "Name: unforced, dtype: float64"
      ]
     },
     "execution_count": 111,
     "metadata": {},
     "output_type": "execute_result"
    }
   ],
   "source": [
    "nadal_data[(nadal_data['Date'] > '2015-01-01') &\n",
    "           (nadal_data['set'] == 'Total') &\n",
    "           (nadal_data['nadal_id'] == nadal_data['player'])]['unforced'].describe() "
   ]
  },
  {
   "cell_type": "markdown",
   "metadata": {},
   "source": [
    "---"
   ]
  },
  {
   "cell_type": "code",
   "execution_count": 112,
   "metadata": {
    "collapsed": false
   },
   "outputs": [
    {
     "data": {
      "text/plain": [
       "count    113.000000\n",
       "mean      11.654867\n",
       "std        6.469392\n",
       "min        1.000000\n",
       "25%        6.000000\n",
       "50%       11.000000\n",
       "75%       16.000000\n",
       "max       33.000000\n",
       "Name: unforced_fh, dtype: float64"
      ]
     },
     "execution_count": 112,
     "metadata": {},
     "output_type": "execute_result"
    }
   ],
   "source": [
    "nadal_data[(nadal_data['Date'] < '2015-01-01') & \n",
    "           (nadal_data['Date'] > '2006-01-01') &\n",
    "           (nadal_data['set'] == 'Total') &\n",
    "           (nadal_data['nadal_id'] == nadal_data['player'])]['unforced_fh'].describe()"
   ]
  },
  {
   "cell_type": "code",
   "execution_count": 113,
   "metadata": {
    "collapsed": false
   },
   "outputs": [
    {
     "data": {
      "text/plain": [
       "count    27.000000\n",
       "mean     12.185185\n",
       "std       5.837788\n",
       "min       0.000000\n",
       "25%       9.000000\n",
       "50%      12.000000\n",
       "75%      14.500000\n",
       "max      26.000000\n",
       "Name: unforced_fh, dtype: float64"
      ]
     },
     "execution_count": 113,
     "metadata": {},
     "output_type": "execute_result"
    }
   ],
   "source": [
    "nadal_data[(nadal_data['Date'] > '2015-01-01') &\n",
    "           (nadal_data['set'] == 'Total') &\n",
    "           (nadal_data['nadal_id'] == nadal_data['player'])]['unforced_fh'].describe() "
   ]
  },
  {
   "cell_type": "markdown",
   "metadata": {},
   "source": [
    "---"
   ]
  },
  {
   "cell_type": "code",
   "execution_count": 114,
   "metadata": {
    "collapsed": false
   },
   "outputs": [
    {
     "data": {
      "text/plain": [
       "count    113.000000\n",
       "mean       9.247788\n",
       "std        5.285646\n",
       "min        1.000000\n",
       "25%        5.000000\n",
       "50%        8.000000\n",
       "75%       12.000000\n",
       "max       32.000000\n",
       "Name: unforced_bh, dtype: float64"
      ]
     },
     "execution_count": 114,
     "metadata": {},
     "output_type": "execute_result"
    }
   ],
   "source": [
    "nadal_data[(nadal_data['Date'] < '2015-01-01') & \n",
    "           (nadal_data['Date'] > '2006-01-01') &\n",
    "           (nadal_data['set'] == 'Total') &\n",
    "           (nadal_data['nadal_id'] == nadal_data['player'])]['unforced_bh'].describe()"
   ]
  },
  {
   "cell_type": "code",
   "execution_count": 115,
   "metadata": {
    "collapsed": false
   },
   "outputs": [
    {
     "data": {
      "text/plain": [
       "count    27.000000\n",
       "mean      8.444444\n",
       "std       5.672697\n",
       "min       0.000000\n",
       "25%       4.000000\n",
       "50%       7.000000\n",
       "75%      12.000000\n",
       "max      23.000000\n",
       "Name: unforced_bh, dtype: float64"
      ]
     },
     "execution_count": 115,
     "metadata": {},
     "output_type": "execute_result"
    }
   ],
   "source": [
    "nadal_data[(nadal_data['Date'] > '2015-01-01') &\n",
    "           (nadal_data['set'] == 'Total') &\n",
    "           (nadal_data['nadal_id'] == nadal_data['player'])]['unforced_bh'].describe() "
   ]
  },
  {
   "cell_type": "markdown",
   "metadata": {
    "collapsed": true
   },
   "source": [
    "## Key Indicators of Nadal's Opponents "
   ]
  },
  {
   "cell_type": "code",
   "execution_count": null,
   "metadata": {
    "collapsed": true
   },
   "outputs": [],
   "source": []
  },
  {
   "cell_type": "code",
   "execution_count": null,
   "metadata": {
    "collapsed": true
   },
   "outputs": [],
   "source": []
  },
  {
   "cell_type": "code",
   "execution_count": null,
   "metadata": {
    "collapsed": true
   },
   "outputs": [],
   "source": []
  },
  {
   "cell_type": "markdown",
   "metadata": {},
   "source": [
    "# Playing Around - Temp Section, to be deleted or moved to appendix"
   ]
  },
  {
   "cell_type": "code",
   "execution_count": 116,
   "metadata": {
    "collapsed": false
   },
   "outputs": [
    {
     "data": {
      "text/html": [
       "<div>\n",
       "<table border=\"1\" class=\"dataframe\">\n",
       "  <thead>\n",
       "    <tr style=\"text-align: right;\">\n",
       "      <th></th>\n",
       "      <th>DATE</th>\n",
       "      <th>SINGLES</th>\n",
       "      <th>DOUBLES</th>\n",
       "    </tr>\n",
       "  </thead>\n",
       "  <tbody>\n",
       "    <tr>\n",
       "      <th>0</th>\n",
       "      <td>2016-04-25</td>\n",
       "      <td>5</td>\n",
       "      <td>147</td>\n",
       "    </tr>\n",
       "    <tr>\n",
       "      <th>1</th>\n",
       "      <td>2016-04-18</td>\n",
       "      <td>5</td>\n",
       "      <td>145</td>\n",
       "    </tr>\n",
       "    <tr>\n",
       "      <th>2</th>\n",
       "      <td>2016-04-11</td>\n",
       "      <td>5</td>\n",
       "      <td>144</td>\n",
       "    </tr>\n",
       "    <tr>\n",
       "      <th>3</th>\n",
       "      <td>2016-04-04</td>\n",
       "      <td>5</td>\n",
       "      <td>146</td>\n",
       "    </tr>\n",
       "    <tr>\n",
       "      <th>4</th>\n",
       "      <td>2016-03-21</td>\n",
       "      <td>5</td>\n",
       "      <td>178</td>\n",
       "    </tr>\n",
       "  </tbody>\n",
       "</table>\n",
       "</div>"
      ],
      "text/plain": [
       "        DATE  SINGLES DOUBLES\n",
       "0 2016-04-25        5     147\n",
       "1 2016-04-18        5     145\n",
       "2 2016-04-11        5     144\n",
       "3 2016-04-04        5     146\n",
       "4 2016-03-21        5     178"
      ]
     },
     "execution_count": 116,
     "metadata": {},
     "output_type": "execute_result"
    }
   ],
   "source": [
    "nadal_rankings.head()"
   ]
  },
  {
   "cell_type": "code",
   "execution_count": 117,
   "metadata": {
    "collapsed": false
   },
   "outputs": [
    {
     "data": {
      "text/plain": [
       "1     124\n",
       "2     233\n",
       "3      50\n",
       "4      34\n",
       "5      43\n",
       "6       1\n",
       "7      11\n",
       "8       4\n",
       "9       2\n",
       "10      7\n",
       "11      1\n",
       "17      2\n",
       "30      1\n",
       "31      2\n",
       "34      2\n",
       "35      1\n",
       "36      1\n",
       "37      2\n",
       "39      1\n",
       "40      4\n",
       "Name: SINGLES, dtype: int64"
      ]
     },
     "execution_count": 117,
     "metadata": {},
     "output_type": "execute_result"
    }
   ],
   "source": [
    "nadal_rankings['SINGLES'].value_counts().sort_index()[1:21]"
   ]
  },
  {
   "cell_type": "code",
   "execution_count": 66,
   "metadata": {
    "collapsed": false,
    "scrolled": true
   },
   "outputs": [
    {
     "data": {
      "text/plain": [
       "Rafael Nadal              650\n",
       "Novak Djokovic             23\n",
       "Roger Federer              10\n",
       "Andy Murray                 7\n",
       "Nikolay Davydenko           6\n",
       "David Ferrer                5\n",
       "Juan Martin Del Potro       4\n",
       "Jo Wilfried Tsonga          4\n",
       "Tomas Berdych               3\n",
       "Mikhail Youzhny             3\n",
       "Stanislas Wawrinka          3\n",
       "Fabio Fognini               3\n",
       "Feliciano Lopez             3\n",
       "James Blake                 2\n",
       "Fernando Verdasco           2\n",
       "Andy Roddick                2\n",
       "Alexandr Dolgopolov         2\n",
       "Gael Monfils                2\n",
       "Robin Soderling             2\n",
       "Juan Carlos Ferrero         2\n",
       "Dustin Brown                2\n",
       "David Nalbandian            2\n",
       "Arnaud Clement              1\n",
       "Nicolas Almagro             1\n",
       "Guillermo Garcia Lopez      1\n",
       "Marin Cilic                 1\n",
       "Fernando Gonzalez           1\n",
       "Michael Berrer              1\n",
       "Florian Mayer               1\n",
       "Borna Coric                 1\n",
       "Joachim Johansson           1\n",
       "Jurgen Melzer               1\n",
       "Gilles Simon                1\n",
       "Milos Raonic                1\n",
       "Chris Guccione              1\n",
       "Carlos Moya                 1\n",
       "Ivan Ljubicic               1\n",
       "Philipp Kohlschreiber       1\n",
       "Marcos Baghdatis            1\n",
       "Lleyton Hewitt              1\n",
       "Lukas Rosol                 1\n",
       "Nick Kyrgios                1\n",
       "Horacio Zeballos            1\n",
       "Kei Nishikori               1\n",
       "Nicolas Mahut               1\n",
       "Steve Darcis                1\n",
       "Xavier Malisse              1\n",
       "Andreas Seppi               1\n",
       "Juan Monaco                 1\n",
       "Ivan Dodig                  1\n",
       "Mardy Fish                  1\n",
       "Martin Klizan               1\n",
       "Name: winner_name, dtype: int64"
      ]
     },
     "execution_count": 66,
     "metadata": {},
     "output_type": "execute_result"
    }
   ],
   "source": [
    "nadal_results['winner_name'].value_counts()"
   ]
  },
  {
   "cell_type": "code",
   "execution_count": 65,
   "metadata": {
    "collapsed": false,
    "scrolled": true
   },
   "outputs": [
    {
     "data": {
      "text/plain": [
       "Rafael Nadal             122\n",
       "Novak Djokovic            23\n",
       "David Ferrer              21\n",
       "Roger Federer             21\n",
       "Tomas Berdych             19\n",
       "Andy Murray               16\n",
       "Stanislas Wawrinka        14\n",
       "Nicolas Almagro           12\n",
       "Philipp Kohlschreiber     12\n",
       "Fernando Verdasco         11\n",
       "Richard Gasquet           11\n",
       "Mikhail Youzhny           10\n",
       "Gael Monfils              10\n",
       "Feliciano Lopez            9\n",
       "Juan Martin Del Potro      9\n",
       "Mardy Fish                 8\n",
       "Jo Wilfried Tsonga         8\n",
       "Marcos Baghdatis           8\n",
       "Paul Henri Mathieu         8\n",
       "Jarkko Nieminen            7\n",
       "Lleyton Hewitt             7\n",
       "Gilles Simon               7\n",
       "Kei Nishikori              7\n",
       "Fernando Gonzalez          7\n",
       "Grigor Dimitrov            7\n",
       "Ernests Gulbis             7\n",
       "Andy Roddick               6\n",
       "David Nalbandian           6\n",
       "Milos Raonic               6\n",
       "John Isner                 6\n",
       "                        ... \n",
       "Davide Sanguinetti         1\n",
       "Roberto Bautista Agut      1\n",
       "Wesley Moodie              1\n",
       "Karan Rastogi              1\n",
       "Max Mirnyi                 1\n",
       "Tobias Kamke               1\n",
       "Luis Horna                 1\n",
       "Tim Smyczek                1\n",
       "Alex Bogdanovic            1\n",
       "Marsel Ilhan               1\n",
       "Thiemo De Bakker           1\n",
       "Jonas Bjorkman             1\n",
       "Robin Haase                1\n",
       "Di Wu                      1\n",
       "Mark Philippoussis         1\n",
       "Werner Eschauer            1\n",
       "Lucas Pouille              1\n",
       "Joao Sousa                 1\n",
       "Quentin Halys              1\n",
       "Dudi Sela                  1\n",
       "Alex Kuznetsov             1\n",
       "Jan Hernych                1\n",
       "Florian Mayer              1\n",
       "Bjorn Phau                 1\n",
       "Matthew Ebden              1\n",
       "Fabrice Santoro            1\n",
       "Eduardo Schwank            1\n",
       "Joao Souza                 1\n",
       "Andre Agassi               1\n",
       "Jean Rene Lisnard          1\n",
       "Name: loser_name, dtype: int64"
      ]
     },
     "execution_count": 65,
     "metadata": {},
     "output_type": "execute_result"
    }
   ],
   "source": [
    "nadal_results['loser_name'].value_counts()"
   ]
  },
  {
   "cell_type": "code",
   "execution_count": 118,
   "metadata": {
    "collapsed": false
   },
   "outputs": [
    {
     "data": {
      "text/html": [
       "<div>\n",
       "<table border=\"1\" class=\"dataframe\">\n",
       "  <thead>\n",
       "    <tr style=\"text-align: right;\">\n",
       "      <th></th>\n",
       "      <th>match_id</th>\n",
       "      <th>Player 1</th>\n",
       "      <th>Player 2</th>\n",
       "      <th>Pl 1 hand</th>\n",
       "      <th>Pl 2 hand</th>\n",
       "      <th>Gender</th>\n",
       "      <th>Date</th>\n",
       "      <th>Tournament</th>\n",
       "      <th>Round</th>\n",
       "      <th>Time</th>\n",
       "      <th>Court</th>\n",
       "      <th>Surface</th>\n",
       "      <th>Umpire</th>\n",
       "      <th>Best of</th>\n",
       "      <th>Final TB?</th>\n",
       "      <th>Charted by</th>\n",
       "    </tr>\n",
       "  </thead>\n",
       "  <tbody>\n",
       "    <tr>\n",
       "      <th>15</th>\n",
       "      <td>20160319-M-Indian_Wells_Masters-SF-Rafael_Nada...</td>\n",
       "      <td>Rafael Nadal</td>\n",
       "      <td>Novak Djokovic</td>\n",
       "      <td>L</td>\n",
       "      <td>R</td>\n",
       "      <td>M</td>\n",
       "      <td>20160319</td>\n",
       "      <td>Indian Wells Masters</td>\n",
       "      <td>SF</td>\n",
       "      <td>NaN</td>\n",
       "      <td>Stadium 1</td>\n",
       "      <td>Hard</td>\n",
       "      <td>NaN</td>\n",
       "      <td>3</td>\n",
       "      <td>1.0</td>\n",
       "      <td>Isaac</td>\n",
       "    </tr>\n",
       "    <tr>\n",
       "      <th>47</th>\n",
       "      <td>20160213-M-Buenos_Aires-SF-Rafael_Nadal-Domini...</td>\n",
       "      <td>Rafael Nadal</td>\n",
       "      <td>Dominic Thiem</td>\n",
       "      <td>L</td>\n",
       "      <td>R</td>\n",
       "      <td>M</td>\n",
       "      <td>20160213</td>\n",
       "      <td>Buenos Aires</td>\n",
       "      <td>SF</td>\n",
       "      <td>14:50</td>\n",
       "      <td>Court Central</td>\n",
       "      <td>Clay</td>\n",
       "      <td>NaN</td>\n",
       "      <td>3</td>\n",
       "      <td>1.0</td>\n",
       "      <td>1HandBH</td>\n",
       "    </tr>\n",
       "    <tr>\n",
       "      <th>79</th>\n",
       "      <td>20160110-M-Doha-F-Novak_Djokovic-Rafael_Nadal</td>\n",
       "      <td>Novak Djokovic</td>\n",
       "      <td>Rafael Nadal</td>\n",
       "      <td>R</td>\n",
       "      <td>L</td>\n",
       "      <td>M</td>\n",
       "      <td>20160110</td>\n",
       "      <td>Doha</td>\n",
       "      <td>F</td>\n",
       "      <td>NaN</td>\n",
       "      <td>NaN</td>\n",
       "      <td>Hard</td>\n",
       "      <td>NaN</td>\n",
       "      <td>3</td>\n",
       "      <td>1.0</td>\n",
       "      <td>Isaac</td>\n",
       "    </tr>\n",
       "    <tr>\n",
       "      <th>86</th>\n",
       "      <td>20160108-M-Doha-SF-Rafael_Nadal-Illya_Marchenko</td>\n",
       "      <td>Rafael Nadal</td>\n",
       "      <td>Illya Marchenko</td>\n",
       "      <td>L</td>\n",
       "      <td>R</td>\n",
       "      <td>M</td>\n",
       "      <td>20160108</td>\n",
       "      <td>Doha</td>\n",
       "      <td>SF</td>\n",
       "      <td>NaN</td>\n",
       "      <td>NaN</td>\n",
       "      <td>Hard</td>\n",
       "      <td>NaN</td>\n",
       "      <td>3</td>\n",
       "      <td>1.0</td>\n",
       "      <td>Isaac</td>\n",
       "    </tr>\n",
       "    <tr>\n",
       "      <th>91</th>\n",
       "      <td>20160106-M-Doha-R16-Rafael_Nadal-Robin_Haase</td>\n",
       "      <td>Rafael Nadal</td>\n",
       "      <td>Robin Haase</td>\n",
       "      <td>L</td>\n",
       "      <td>R</td>\n",
       "      <td>M</td>\n",
       "      <td>20160106</td>\n",
       "      <td>Doha</td>\n",
       "      <td>R16</td>\n",
       "      <td>NaN</td>\n",
       "      <td>NaN</td>\n",
       "      <td>Hard</td>\n",
       "      <td>NaN</td>\n",
       "      <td>3</td>\n",
       "      <td>1.0</td>\n",
       "      <td>Isaac</td>\n",
       "    </tr>\n",
       "  </tbody>\n",
       "</table>\n",
       "</div>"
      ],
      "text/plain": [
       "                                             match_id        Player 1  \\\n",
       "15  20160319-M-Indian_Wells_Masters-SF-Rafael_Nada...    Rafael Nadal   \n",
       "47  20160213-M-Buenos_Aires-SF-Rafael_Nadal-Domini...    Rafael Nadal   \n",
       "79      20160110-M-Doha-F-Novak_Djokovic-Rafael_Nadal  Novak Djokovic   \n",
       "86    20160108-M-Doha-SF-Rafael_Nadal-Illya_Marchenko    Rafael Nadal   \n",
       "91       20160106-M-Doha-R16-Rafael_Nadal-Robin_Haase    Rafael Nadal   \n",
       "\n",
       "           Player 2 Pl 1 hand Pl 2 hand Gender      Date  \\\n",
       "15   Novak Djokovic         L         R      M  20160319   \n",
       "47    Dominic Thiem         L         R      M  20160213   \n",
       "79     Rafael Nadal         R         L      M  20160110   \n",
       "86  Illya Marchenko         L         R      M  20160108   \n",
       "91      Robin Haase         L         R      M  20160106   \n",
       "\n",
       "              Tournament Round   Time          Court Surface Umpire  Best of  \\\n",
       "15  Indian Wells Masters    SF    NaN      Stadium 1    Hard    NaN        3   \n",
       "47          Buenos Aires    SF  14:50  Court Central    Clay    NaN        3   \n",
       "79                  Doha     F    NaN            NaN    Hard    NaN        3   \n",
       "86                  Doha    SF    NaN            NaN    Hard    NaN        3   \n",
       "91                  Doha   R16    NaN            NaN    Hard    NaN        3   \n",
       "\n",
       "    Final TB? Charted by  \n",
       "15        1.0      Isaac  \n",
       "47        1.0    1HandBH  \n",
       "79        1.0      Isaac  \n",
       "86        1.0      Isaac  \n",
       "91        1.0      Isaac  "
      ]
     },
     "execution_count": 118,
     "metadata": {},
     "output_type": "execute_result"
    }
   ],
   "source": [
    "nadal_match_data.head()"
   ]
  },
  {
   "cell_type": "code",
   "execution_count": 119,
   "metadata": {
    "collapsed": false
   },
   "outputs": [
    {
     "data": {
      "text/html": [
       "<div>\n",
       "<table border=\"1\" class=\"dataframe\">\n",
       "  <thead>\n",
       "    <tr style=\"text-align: right;\">\n",
       "      <th></th>\n",
       "      <th>match_id</th>\n",
       "      <th>player</th>\n",
       "      <th>set</th>\n",
       "      <th>serve_pts</th>\n",
       "      <th>aces</th>\n",
       "      <th>dfs</th>\n",
       "      <th>first_in</th>\n",
       "      <th>first_won</th>\n",
       "      <th>second_in</th>\n",
       "      <th>second_won</th>\n",
       "      <th>bk_pts</th>\n",
       "      <th>bp_saved</th>\n",
       "      <th>return_pts</th>\n",
       "      <th>return_pts_won</th>\n",
       "      <th>winners</th>\n",
       "      <th>winners_fh</th>\n",
       "      <th>winners_bh</th>\n",
       "      <th>unforced</th>\n",
       "      <th>unforced_fh</th>\n",
       "      <th>unforced_bh</th>\n",
       "    </tr>\n",
       "  </thead>\n",
       "  <tbody>\n",
       "    <tr>\n",
       "      <th>0</th>\n",
       "      <td>19751219-M-Davis_Cup_World_Group_F-RR-Bjorn_Bo...</td>\n",
       "      <td>1</td>\n",
       "      <td>Total</td>\n",
       "      <td>69</td>\n",
       "      <td>2</td>\n",
       "      <td>1</td>\n",
       "      <td>32</td>\n",
       "      <td>25</td>\n",
       "      <td>37</td>\n",
       "      <td>21</td>\n",
       "      <td>5</td>\n",
       "      <td>4</td>\n",
       "      <td>63</td>\n",
       "      <td>36</td>\n",
       "      <td>28</td>\n",
       "      <td>10</td>\n",
       "      <td>16</td>\n",
       "      <td>16</td>\n",
       "      <td>6</td>\n",
       "      <td>9</td>\n",
       "    </tr>\n",
       "    <tr>\n",
       "      <th>1</th>\n",
       "      <td>19751219-M-Davis_Cup_World_Group_F-RR-Bjorn_Bo...</td>\n",
       "      <td>2</td>\n",
       "      <td>Total</td>\n",
       "      <td>63</td>\n",
       "      <td>2</td>\n",
       "      <td>2</td>\n",
       "      <td>41</td>\n",
       "      <td>20</td>\n",
       "      <td>22</td>\n",
       "      <td>7</td>\n",
       "      <td>12</td>\n",
       "      <td>4</td>\n",
       "      <td>69</td>\n",
       "      <td>23</td>\n",
       "      <td>14</td>\n",
       "      <td>8</td>\n",
       "      <td>4</td>\n",
       "      <td>26</td>\n",
       "      <td>15</td>\n",
       "      <td>9</td>\n",
       "    </tr>\n",
       "    <tr>\n",
       "      <th>2</th>\n",
       "      <td>19751219-M-Davis_Cup_World_Group_F-RR-Bjorn_Bo...</td>\n",
       "      <td>1</td>\n",
       "      <td>1</td>\n",
       "      <td>26</td>\n",
       "      <td>2</td>\n",
       "      <td>0</td>\n",
       "      <td>15</td>\n",
       "      <td>10</td>\n",
       "      <td>11</td>\n",
       "      <td>6</td>\n",
       "      <td>2</td>\n",
       "      <td>1</td>\n",
       "      <td>18</td>\n",
       "      <td>13</td>\n",
       "      <td>10</td>\n",
       "      <td>3</td>\n",
       "      <td>5</td>\n",
       "      <td>6</td>\n",
       "      <td>2</td>\n",
       "      <td>4</td>\n",
       "    </tr>\n",
       "    <tr>\n",
       "      <th>3</th>\n",
       "      <td>19751219-M-Davis_Cup_World_Group_F-RR-Bjorn_Bo...</td>\n",
       "      <td>2</td>\n",
       "      <td>1</td>\n",
       "      <td>18</td>\n",
       "      <td>0</td>\n",
       "      <td>0</td>\n",
       "      <td>11</td>\n",
       "      <td>3</td>\n",
       "      <td>7</td>\n",
       "      <td>2</td>\n",
       "      <td>3</td>\n",
       "      <td>0</td>\n",
       "      <td>26</td>\n",
       "      <td>10</td>\n",
       "      <td>4</td>\n",
       "      <td>2</td>\n",
       "      <td>2</td>\n",
       "      <td>10</td>\n",
       "      <td>7</td>\n",
       "      <td>3</td>\n",
       "    </tr>\n",
       "    <tr>\n",
       "      <th>4</th>\n",
       "      <td>19751219-M-Davis_Cup_World_Group_F-RR-Bjorn_Bo...</td>\n",
       "      <td>1</td>\n",
       "      <td>2</td>\n",
       "      <td>24</td>\n",
       "      <td>0</td>\n",
       "      <td>0</td>\n",
       "      <td>10</td>\n",
       "      <td>9</td>\n",
       "      <td>14</td>\n",
       "      <td>8</td>\n",
       "      <td>1</td>\n",
       "      <td>1</td>\n",
       "      <td>26</td>\n",
       "      <td>10</td>\n",
       "      <td>9</td>\n",
       "      <td>3</td>\n",
       "      <td>6</td>\n",
       "      <td>6</td>\n",
       "      <td>2</td>\n",
       "      <td>4</td>\n",
       "    </tr>\n",
       "  </tbody>\n",
       "</table>\n",
       "</div>"
      ],
      "text/plain": [
       "                                            match_id  player    set  \\\n",
       "0  19751219-M-Davis_Cup_World_Group_F-RR-Bjorn_Bo...       1  Total   \n",
       "1  19751219-M-Davis_Cup_World_Group_F-RR-Bjorn_Bo...       2  Total   \n",
       "2  19751219-M-Davis_Cup_World_Group_F-RR-Bjorn_Bo...       1      1   \n",
       "3  19751219-M-Davis_Cup_World_Group_F-RR-Bjorn_Bo...       2      1   \n",
       "4  19751219-M-Davis_Cup_World_Group_F-RR-Bjorn_Bo...       1      2   \n",
       "\n",
       "   serve_pts  aces  dfs  first_in  first_won  second_in  second_won  bk_pts  \\\n",
       "0         69     2    1        32         25         37          21       5   \n",
       "1         63     2    2        41         20         22           7      12   \n",
       "2         26     2    0        15         10         11           6       2   \n",
       "3         18     0    0        11          3          7           2       3   \n",
       "4         24     0    0        10          9         14           8       1   \n",
       "\n",
       "   bp_saved  return_pts  return_pts_won  winners  winners_fh  winners_bh  \\\n",
       "0         4          63              36       28          10          16   \n",
       "1         4          69              23       14           8           4   \n",
       "2         1          18              13       10           3           5   \n",
       "3         0          26              10        4           2           2   \n",
       "4         1          26              10        9           3           6   \n",
       "\n",
       "   unforced  unforced_fh  unforced_bh  \n",
       "0        16            6            9  \n",
       "1        26           15            9  \n",
       "2         6            2            4  \n",
       "3        10            7            3  \n",
       "4         6            2            4  "
      ]
     },
     "execution_count": 119,
     "metadata": {},
     "output_type": "execute_result"
    }
   ],
   "source": [
    "match_overview_data.head()"
   ]
  },
  {
   "cell_type": "code",
   "execution_count": 120,
   "metadata": {
    "collapsed": false
   },
   "outputs": [
    {
     "data": {
      "text/plain": [
       "Index(['match_id', 'Player 1', 'Player 2', 'Pl 1 hand', 'Pl 2 hand', 'Gender',\n",
       "       'Date', 'Tournament', 'Round', 'Time', 'Court', 'Surface', 'Umpire',\n",
       "       'Best of', 'Final TB?', 'Charted by', 'player', 'set', 'serve_pts',\n",
       "       'aces', 'dfs', 'first_in', 'first_won', 'second_in', 'second_won',\n",
       "       'bk_pts', 'bp_saved', 'return_pts', 'return_pts_won', 'winners',\n",
       "       'winners_fh', 'winners_bh', 'unforced', 'unforced_fh', 'unforced_bh',\n",
       "       '_merge', 'nadal_id', 'first_in_perc', 'first_won_perc',\n",
       "       'second_in_perc', 'second_won_perc'],\n",
       "      dtype='object')"
      ]
     },
     "execution_count": 120,
     "metadata": {},
     "output_type": "execute_result"
    }
   ],
   "source": [
    "nadal_data.columns"
   ]
  },
  {
   "cell_type": "code",
   "execution_count": null,
   "metadata": {
    "collapsed": true
   },
   "outputs": [],
   "source": []
  },
  {
   "cell_type": "code",
   "execution_count": null,
   "metadata": {
    "collapsed": true
   },
   "outputs": [],
   "source": []
  },
  {
   "cell_type": "markdown",
   "metadata": {
    "collapsed": true
   },
   "source": [
    "use this to track nadal specific data, \n",
    "! for first statement will give opponent data"
   ]
  },
  {
   "cell_type": "code",
   "execution_count": 121,
   "metadata": {
    "collapsed": false
   },
   "outputs": [
    {
     "data": {
      "text/plain": [
       "141"
      ]
     },
     "execution_count": 121,
     "metadata": {},
     "output_type": "execute_result"
    }
   ],
   "source": [
    "nadal_data[(nadal_data['nadal_id'] == nadal_data['player']) & (nadal_data['set'] == 'Total')]['Player 1'].count()"
   ]
  },
  {
   "cell_type": "code",
   "execution_count": null,
   "metadata": {
    "collapsed": true
   },
   "outputs": [],
   "source": []
  },
  {
   "cell_type": "markdown",
   "metadata": {},
   "source": [
    "Length of matches, if interested - can add later"
   ]
  },
  {
   "cell_type": "code",
   "execution_count": 122,
   "metadata": {
    "collapsed": false
   },
   "outputs": [
    {
     "data": {
      "text/plain": [
       "1        226\n",
       "Total    226\n",
       "2        224\n",
       "3        116\n",
       "4         46\n",
       "5         12\n",
       "Name: set, dtype: int64"
      ]
     },
     "execution_count": 122,
     "metadata": {},
     "output_type": "execute_result"
    }
   ],
   "source": [
    "nadal_data[(nadal_data['Date'] < '2015-01-01') & \n",
    "           (nadal_data['Date'] > '2006-01-01')]['set'].value_counts()"
   ]
  },
  {
   "cell_type": "code",
   "execution_count": 123,
   "metadata": {
    "collapsed": false
   },
   "outputs": [
    {
     "data": {
      "text/plain": [
       "1        54\n",
       "Total    54\n",
       "2        54\n",
       "3        24\n",
       "4         4\n",
       "5         2\n",
       "Name: set, dtype: int64"
      ]
     },
     "execution_count": 123,
     "metadata": {},
     "output_type": "execute_result"
    }
   ],
   "source": [
    "nadal_data[(nadal_data['Date'] >= '2015-01-01')]['set'].value_counts()"
   ]
  },
  {
   "cell_type": "code",
   "execution_count": 124,
   "metadata": {
    "collapsed": false
   },
   "outputs": [
    {
     "data": {
      "text/plain": [
       "0.5178571428571429"
      ]
     },
     "execution_count": 124,
     "metadata": {},
     "output_type": "execute_result"
    }
   ],
   "source": [
    "116 / 224"
   ]
  },
  {
   "cell_type": "code",
   "execution_count": 125,
   "metadata": {
    "collapsed": false
   },
   "outputs": [
    {
     "data": {
      "text/plain": [
       "0.4444444444444444"
      ]
     },
     "execution_count": 125,
     "metadata": {},
     "output_type": "execute_result"
    }
   ],
   "source": [
    "24 / 54"
   ]
  },
  {
   "cell_type": "code",
   "execution_count": null,
   "metadata": {
    "collapsed": true
   },
   "outputs": [],
   "source": []
  }
 ],
 "metadata": {
  "kernelspec": {
   "display_name": "Python 3",
   "language": "python",
   "name": "python3"
  },
  "language_info": {
   "codemirror_mode": {
    "name": "ipython",
    "version": 3
   },
   "file_extension": ".py",
   "mimetype": "text/x-python",
   "name": "python",
   "nbconvert_exporter": "python",
   "pygments_lexer": "ipython3",
   "version": "3.5.1"
  }
 },
 "nbformat": 4,
 "nbformat_minor": 0
}
